{
 "cells": [
  {
   "cell_type": "code",
   "execution_count": 1,
   "metadata": {},
   "outputs": [],
   "source": [
    "#import modul\n",
    "from tweepy.streaming import StreamListener\n",
    "from tweepy import OAuthHandler\n",
    "from tweepy import Stream\n",
    "from tweepy import API \n",
    "from tweepy import Cursor\n",
    "from tweepy import Stream\n",
    "from textblob import TextBlob\n",
    "import matplotlib.pyplot as plt\n",
    "import numpy as np\n",
    "import pandas as pd\n",
    "import re"
   ]
  },
  {
   "cell_type": "code",
   "execution_count": 2,
   "metadata": {},
   "outputs": [],
   "source": [
    "# Akses key token dan consumer key token untuk menghubungkan twitter dengan jupyter lab\n",
    "ACCESS_TOKEN = \"XXXXXXXXXXXXXXXXXXXXXXXXXXXXXXXXXXXXXXXX\"\n",
    "ACCESS_TOKEN_SECRET = \"XXXXXXXXXXXXXXXXXXXXXXXXXXXXXXXXXXXXXXXX\"\n",
    "CONSUMER_KEY = \"XXXXXXXXXXXXXXXXXXXXXXXXXXXXXXXXXXXXXXXX\"\n",
    "CONSUMER_SECRET = \"XXXXXXXXXXXXXXXXXXXXXXXXXXXXXXXXXXXXXXXX\""
   ]
  },
  {
   "cell_type": "code",
   "execution_count": 3,
   "metadata": {},
   "outputs": [],
   "source": [
    "# Client Twitter\n",
    "class TwitterClient():\n",
    "    def __init__(self, user_twitter=None):\n",
    "        self.auth = TwitterAuthenticator().authenticate_twitter_app()\n",
    "        self.twitter_client = API(self.auth)\n",
    "\n",
    "        self.user_twitter = user_twitter\n",
    "\n",
    "    def get_twitter_client_api(self):\n",
    "        return self.twitter_client\n",
    "\n",
    "    def get_user_timeline_tweets(self, num_tweets):\n",
    "        tweets = []\n",
    "        for tweet in Cursor(self.twitter_client.user_timeline, id=self.user_twitter).items(num_tweets):\n",
    "            tweets.append(tweet)\n",
    "        return tweets\n",
    "\n",
    "    def get_friend_list(self, num_friends):\n",
    "        friend_list = []\n",
    "        for friend in Cursor(self.twitter_client.friends, id=self.user_twitter).items(num_friends):\n",
    "            friend_list.append(friend)\n",
    "        return friend_list\n",
    "\n",
    "    def get_home_timeline_tweets(self, num_tweets):\n",
    "        home_timeline_tweets = []\n",
    "        for tweet in Cursor(self.twitter_client.home_timeline, id=self.user_twitter).items(num_tweets):\n",
    "            home_timeline_tweets.append(tweet)\n",
    "        return home_timeline_tweets"
   ]
  },
  {
   "cell_type": "code",
   "execution_count": 4,
   "metadata": {},
   "outputs": [],
   "source": [
    "#Autentifikasi twitter\n",
    "class TwitterAuthenticator():\n",
    "\n",
    "    def authenticate_twitter_app(self):\n",
    "        auth = OAuthHandler(CONSUMER_KEY, CONSUMER_SECRET)\n",
    "        auth.set_access_token(ACCESS_TOKEN, ACCESS_TOKEN_SECRET)\n",
    "        return auth"
   ]
  },
  {
   "cell_type": "code",
   "execution_count": 5,
   "metadata": {},
   "outputs": [],
   "source": [
    "#Stream Twitter\n",
    "class TwitterStreamer():\n",
    "    \"\"\"\n",
    "    Class untuk streaming dan pemrosesan tweet langsung.\n",
    "    \"\"\"\n",
    "    def __init__(self):\n",
    "        pass\n",
    "\n",
    "    def stream_tweets(self, fetched_tweets_filename, hash_tag_list):\n",
    "        #Autentifikasi twitter dan koneksi ke twitter streaming API\n",
    "        listener = StdOutListener(fetched_tweets_filename)\n",
    "        auth = OAuthHandler(CONSUMER_KEY, CONSUMER_SECRET)\n",
    "        auth.set_access_token(ACCESS_TOKEN, ACCESS_TOKEN_SECRET)\n",
    "        stream = Stream(auth, listener)\n",
    "\n",
    "        # Untuk memfilter streaming twitter dengan hastag atau kata kunci\n",
    "        stream.filter(track=hash_tag_list)"
   ]
  },
  {
   "cell_type": "code",
   "execution_count": 6,
   "metadata": {},
   "outputs": [],
   "source": [
    "# Twitter Stream Listener\n",
    "class TwitterListener(StreamListener):\n",
    "    \"\"\"\n",
    "    Basic listener untuk menampilkan tweets\n",
    "    \"\"\"\n",
    "    def __init__(self, fetched_tweets_filename):\n",
    "        self.fetched_tweets_filename = fetched_tweets_filename\n",
    "\n",
    "    def on_data(self, data):\n",
    "        try:\n",
    "            print(data)\n",
    "            with open(self.fetched_tweets_filename, 'a') as tf:\n",
    "                tf.write(data)\n",
    "            return True\n",
    "        except BaseException as e:\n",
    "            print(\"Error on_data %s\" % str(e))\n",
    "        return True\n",
    "          \n",
    "    def on_error(self, status):\n",
    "        if status == 420:\n",
    "            return False\n",
    "        print(status)\n",
    "\n",
    "#analisis twitter \n",
    "class TweetAnalyzer():\n",
    "    \"\"\"\n",
    "    Fungsi untuk menganalisis tweet dan mengkategorikan konten-konten dari twitter\n",
    "    \"\"\"\n",
    "    \n",
    "    def clean_tweet(self, tweet):\n",
    "        return ' '.join(re.sub(\"(@[A-Za-z0-9]+)|([^0-9A-Za-z \\t])|(\\w+:\\/\\/\\S+)\", \" \", tweet).split())\n",
    "\n",
    "    #Analisis sentimen dengan polarity dan text blob\n",
    "    def analyze_sentiment(self, tweet):\n",
    "        analysis = TextBlob(self.clean_tweet(tweet))\n",
    "        \n",
    "        if analysis.sentiment.polarity > 0:\n",
    "            return 1\n",
    "        elif analysis.sentiment.polarity == 0:\n",
    "            return 0\n",
    "        else:\n",
    "            return -1\n",
    "    \n",
    "    #Menampilkan hasil kedalam sebuah tabel\n",
    "    def tweets_to_data_frame(self, tweets):\n",
    "        df = pd.DataFrame(data=[tweet.text for tweet in tweets], columns=[\"tweets\"])\n",
    "        df[\"No\"] = np.arange(start = 1, stop = len(df)+1)\n",
    "        df[\"Id\"] = np.array([tweet.id for tweet in tweets])\n",
    "        df[\"Date\"] = np.array([tweet.created_at for tweet in tweets])\n",
    "        df[\"Likes\"] = np.array([tweet.favorite_count for tweet in tweets])\n",
    "        df[\"Retweets\"] = np.array([tweet.retweet_count for tweet in tweets])\n",
    "        df = df[[\"No\", \"tweets\", \"Id\", \"Date\", \"Likes\", \"Retweets\"]]\n",
    "        return df\n",
    "\n",
    " \n",
    "if __name__ == '__main__':\n",
    "\n",
    "    twitter_client = TwitterClient()\n",
    "    tweet_analyzer = TweetAnalyzer()\n",
    "\n",
    "    api = twitter_client.get_twitter_client_api()\n",
    "    \n",
    "    #akun yang akan dilakukan analisis sentiment adalah akun @awscloud dengan jumlah sampel tweet yg diambil 200\n",
    "    tweets = api.user_timeline(screen_name=\"awscloud\", count=200)\n",
    "\n",
    "    df = tweet_analyzer.tweets_to_data_frame(tweets)\n",
    "    df[\"sentiment\"] = np.array([tweet_analyzer.analyze_sentiment(tweet) for tweet in df[\"tweets\"]])"
   ]
  },
  {
   "cell_type": "code",
   "execution_count": 7,
   "metadata": {},
   "outputs": [
    {
     "data": {
      "text/html": [
       "<div>\n",
       "<style scoped>\n",
       "    .dataframe tbody tr th:only-of-type {\n",
       "        vertical-align: middle;\n",
       "    }\n",
       "\n",
       "    .dataframe tbody tr th {\n",
       "        vertical-align: top;\n",
       "    }\n",
       "\n",
       "    .dataframe thead th {\n",
       "        text-align: right;\n",
       "    }\n",
       "</style>\n",
       "<table border=\"1\" class=\"dataframe\">\n",
       "  <thead>\n",
       "    <tr style=\"text-align: right;\">\n",
       "      <th></th>\n",
       "      <th>No</th>\n",
       "      <th>tweets</th>\n",
       "      <th>Id</th>\n",
       "      <th>Date</th>\n",
       "      <th>Likes</th>\n",
       "      <th>Retweets</th>\n",
       "      <th>sentiment</th>\n",
       "    </tr>\n",
       "  </thead>\n",
       "  <tbody>\n",
       "    <tr>\n",
       "      <th>0</th>\n",
       "      <td>1</td>\n",
       "      <td>Would you throw if you knew the receiver only ...</td>\n",
       "      <td>1173023724251095040</td>\n",
       "      <td>2019-09-15 00:00:24</td>\n",
       "      <td>22</td>\n",
       "      <td>8</td>\n",
       "      <td>1</td>\n",
       "    </tr>\n",
       "    <tr>\n",
       "      <th>1</th>\n",
       "      <td>2</td>\n",
       "      <td>#MachineLearning tips &amp;amp; tricks: Learn how ...</td>\n",
       "      <td>1172990205818744840</td>\n",
       "      <td>2019-09-14 21:47:12</td>\n",
       "      <td>28</td>\n",
       "      <td>7</td>\n",
       "      <td>0</td>\n",
       "    </tr>\n",
       "    <tr>\n",
       "      <th>2</th>\n",
       "      <td>3</td>\n",
       "      <td>Are you familiar with AWS Lambda, where you ca...</td>\n",
       "      <td>1172934037826150401</td>\n",
       "      <td>2019-09-14 18:04:01</td>\n",
       "      <td>73</td>\n",
       "      <td>20</td>\n",
       "      <td>1</td>\n",
       "    </tr>\n",
       "    <tr>\n",
       "      <th>3</th>\n",
       "      <td>4</td>\n",
       "      <td>Gartner’s perspective in this new article 📰 sh...</td>\n",
       "      <td>1172926992741752832</td>\n",
       "      <td>2019-09-14 17:36:01</td>\n",
       "      <td>31</td>\n",
       "      <td>12</td>\n",
       "      <td>1</td>\n",
       "    </tr>\n",
       "    <tr>\n",
       "      <th>4</th>\n",
       "      <td>5</td>\n",
       "      <td>Find out how to stream live video from devices...</td>\n",
       "      <td>1172916422504321024</td>\n",
       "      <td>2019-09-14 16:54:01</td>\n",
       "      <td>35</td>\n",
       "      <td>14</td>\n",
       "      <td>1</td>\n",
       "    </tr>\n",
       "  </tbody>\n",
       "</table>\n",
       "</div>"
      ],
      "text/plain": [
       "   No                                             tweets                   Id  \\\n",
       "0   1  Would you throw if you knew the receiver only ...  1173023724251095040   \n",
       "1   2  #MachineLearning tips &amp; tricks: Learn how ...  1172990205818744840   \n",
       "2   3  Are you familiar with AWS Lambda, where you ca...  1172934037826150401   \n",
       "3   4  Gartner’s perspective in this new article 📰 sh...  1172926992741752832   \n",
       "4   5  Find out how to stream live video from devices...  1172916422504321024   \n",
       "\n",
       "                 Date  Likes  Retweets  sentiment  \n",
       "0 2019-09-15 00:00:24     22         8          1  \n",
       "1 2019-09-14 21:47:12     28         7          0  \n",
       "2 2019-09-14 18:04:01     73        20          1  \n",
       "3 2019-09-14 17:36:01     31        12          1  \n",
       "4 2019-09-14 16:54:01     35        14          1  "
      ]
     },
     "execution_count": 7,
     "metadata": {},
     "output_type": "execute_result"
    }
   ],
   "source": [
    "df.head()"
   ]
  },
  {
   "cell_type": "code",
   "execution_count": 8,
   "metadata": {},
   "outputs": [
    {
     "data": {
      "text/plain": [
       "Index(['No', 'tweets', 'Id', 'Date', 'Likes', 'Retweets', 'sentiment'], dtype='object')"
      ]
     },
     "execution_count": 8,
     "metadata": {},
     "output_type": "execute_result"
    }
   ],
   "source": [
    "#nama kolom \n",
    "df.columns"
   ]
  },
  {
   "cell_type": "code",
   "execution_count": 9,
   "metadata": {},
   "outputs": [
    {
     "name": "stdout",
     "output_type": "stream",
     "text": [
      "Positif:  103\n",
      "Negatif:  15\n",
      "netral:  82\n"
     ]
    }
   ],
   "source": [
    "#menghitung jumlah sentimen positif, negatif dan netral\n",
    "positive_count = df[df.sentiment == 1].count()\n",
    "neutral_count = df[df.sentiment == 0].count()\n",
    "negative_count = df[df.sentiment == -1].count()\n",
    "print(\"Positif: \",positive_count[\"sentiment\"])\n",
    "print(\"Negatif: \",negative_count[\"sentiment\"])\n",
    "print(\"netral: \", neutral_count[\"sentiment\"])"
   ]
  },
  {
   "cell_type": "code",
   "execution_count": 10,
   "metadata": {},
   "outputs": [
    {
     "data": {
      "image/png": "[encoded data removed]",
      "text/plain": [
       "<Figure size 432x288 with 1 Axes>"
      ]
     },
     "metadata": {},
     "output_type": "display_data"
    }
   ],
   "source": [
    "# Visualisasi hasil sentimen analisis dengan diagram pie\n",
    "labels = 'Positive', 'Neutral', 'Negative'\n",
    "sizes = [positive_count[\"sentiment\"], neutral_count[\"sentiment\"], negative_count[\"sentiment\"]]\n",
    "explode = (0.1, 0.1, 0.1)\n",
    "\n",
    "fig1, ax1 = plt.subplots()\n",
    "ax1.pie(sizes, explode=explode, labels=labels, autopct='%1.1f%%',\n",
    "        shadow=True, startangle=90)\n",
    "ax1.axis('equal')\n",
    "\n",
    "plt.show()"
   ]
  },
  {
   "cell_type": "code",
   "execution_count": null,
   "metadata": {},
   "outputs": [],
   "source": []
  }
 ],
 "metadata": {
  "kernelspec": {
   "display_name": "Python 3",
   "language": "python",
   "name": "python3"
  },
  "language_info": {
   "codemirror_mode": {
    "name": "ipython",
    "version": 3
   },
   "file_extension": ".py",
   "mimetype": "text/x-python",
   "name": "python",
   "nbconvert_exporter": "python",
   "pygments_lexer": "ipython3",
   "version": "3.7.3"
  }
 },
 "nbformat": 4,
 "nbformat_minor": 2
}
